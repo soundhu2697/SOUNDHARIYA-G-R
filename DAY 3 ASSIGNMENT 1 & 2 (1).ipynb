{
 "cells": [
  {
   "cell_type": "markdown",
   "metadata": {},
   "source": [
    "# Assignment 1"
   ]
  },
  {
   "cell_type": "markdown",
   "metadata": {},
   "source": [
    "You are pilots, you have to land a plane, the altitude required for landing a plane is 1000ft, if it is less than that tell pilot to land the plane, or it is more than that but less than 5000ft ask the pilot to come down to 1000ft, else if it is more than 5000ft ask the pilot to go around and try later."
   ]
  },
  {
   "cell_type": "code",
   "execution_count": 3,
   "metadata": {},
   "outputs": [
    {
     "name": "stdout",
     "output_type": "stream",
     "text": [
      "land the plane\n"
     ]
    }
   ],
   "source": [
    "a =990\n",
    "if  a <= 1000:\n",
    "    print(\"land the plane\")\n",
    "elif a < 5000:\n",
    "    print(\"come down to 1000ft\")\n",
    "else:\n",
    "    print(\"go around and try later\")"
   ]
  },
  {
   "cell_type": "code",
   "execution_count": 2,
   "metadata": {},
   "outputs": [
    {
     "name": "stdout",
     "output_type": "stream",
     "text": [
      "come down to 1000ft\n"
     ]
    }
   ],
   "source": [
    "a =3000\n",
    "if  a <= 1000:\n",
    "    print(\"land the plane\")\n",
    "elif a < 5000:\n",
    "    print(\"come down to 1000ft\")\n",
    "else:\n",
    "    print(\"go around and try later\")"
   ]
  },
  {
   "cell_type": "code",
   "execution_count": 3,
   "metadata": {},
   "outputs": [
    {
     "name": "stdout",
     "output_type": "stream",
     "text": [
      "land the plane\n"
     ]
    }
   ],
   "source": [
    "a =950\n",
    "if  a <= 1000:\n",
    "    print(\"land the plane\")\n",
    "elif a < 5000:\n",
    "    print(\"come down to 1000ft\")\n",
    "else:\n",
    "    print(\"go around and try later\")"
   ]
  },
  {
   "cell_type": "markdown",
   "metadata": {},
   "source": []
  },
  {
   "cell_type": "markdown",
   "metadata": {},
   "source": [
    "# Assignment 2"
   ]
  },
  {
   "cell_type": "markdown",
   "metadata": {},
   "source": [
    "# prime numbers"
   ]
  },
  {
   "cell_type": "code",
   "execution_count": 1,
   "metadata": {},
   "outputs": [
    {
     "name": "stdout",
     "output_type": "stream",
     "text": [
      "2\n",
      "3\n",
      "5\n",
      "7\n",
      "11\n",
      "13\n",
      "17\n",
      "19\n",
      "23\n",
      "29\n",
      "31\n",
      "37\n",
      "41\n",
      "43\n",
      "47\n",
      "53\n",
      "59\n",
      "61\n",
      "67\n",
      "71\n",
      "73\n",
      "79\n",
      "83\n",
      "89\n",
      "97\n",
      "101\n",
      "103\n",
      "107\n",
      "109\n",
      "113\n",
      "127\n",
      "131\n",
      "137\n",
      "139\n",
      "149\n",
      "151\n",
      "157\n",
      "163\n",
      "167\n",
      "173\n",
      "179\n",
      "181\n",
      "191\n",
      "193\n",
      "197\n",
      "199\n"
     ]
    }
   ],
   "source": [
    "a = 1\n",
    "b = 201\n",
    "for num in range(a,b):\n",
    "    count = 0\n",
    "    for i in range(1,num+1):\n",
    "        if(num % i) == 0:\n",
    "            count = count + 1\n",
    "    if(count==2):            \n",
    "        print(i) "
   ]
  }
 ],
 "metadata": {
  "kernelspec": {
   "display_name": "Python 3",
   "language": "python",
   "name": "python3"
  },
  "language_info": {
   "codemirror_mode": {
    "name": "ipython",
    "version": 3
   },
   "file_extension": ".py",
   "mimetype": "text/x-python",
   "name": "python",
   "nbconvert_exporter": "python",
   "pygments_lexer": "ipython3",
   "version": "3.8.3"
  }
 },
 "nbformat": 4,
 "nbformat_minor": 4
}
